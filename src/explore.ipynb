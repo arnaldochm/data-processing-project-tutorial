{
    "cells": [
        {
            "cell_type": "markdown",
            "metadata": {},
            "source": [
                "# Explore here"
            ]
        },
        {
            "cell_type": "code",
            "execution_count": 1,
            "metadata": {},
            "outputs": [],
            "source": [
                "# Your code here\n",
                "import numpy as np\n",
                "import pandas as pd\n",
                "import matplotlib.pyplot as plt\n",
                "import seaborn as sns \n",
                "import jinja2"
            ]
        },
        {
            "cell_type": "code",
            "execution_count": 2,
            "metadata": {},
            "outputs": [
                {
                    "name": "stdout",
                    "output_type": "stream",
                    "text": [
                        "<class 'pandas.core.frame.DataFrame'>\n",
                        "RangeIndex: 48895 entries, 0 to 48894\n",
                        "Data columns (total 16 columns):\n",
                        " #   Column                          Non-Null Count  Dtype  \n",
                        "---  ------                          --------------  -----  \n",
                        " 0   id                              48895 non-null  int64  \n",
                        " 1   name                            48879 non-null  object \n",
                        " 2   host_id                         48895 non-null  int64  \n",
                        " 3   host_name                       48874 non-null  object \n",
                        " 4   neighbourhood_group             48895 non-null  object \n",
                        " 5   neighbourhood                   48895 non-null  object \n",
                        " 6   latitude                        48895 non-null  float64\n",
                        " 7   longitude                       48895 non-null  float64\n",
                        " 8   room_type                       48895 non-null  object \n",
                        " 9   price                           48895 non-null  int64  \n",
                        " 10  minimum_nights                  48895 non-null  int64  \n",
                        " 11  number_of_reviews               48895 non-null  int64  \n",
                        " 12  last_review                     38843 non-null  object \n",
                        " 13  reviews_per_month               38843 non-null  float64\n",
                        " 14  calculated_host_listings_count  48895 non-null  int64  \n",
                        " 15  availability_365                48895 non-null  int64  \n",
                        "dtypes: float64(3), int64(7), object(6)\n",
                        "memory usage: 6.0+ MB\n"
                    ]
                }
            ],
            "source": [
                "data_raw = pd.read_csv('https://raw.githubusercontent.com/4GeeksAcademy/data-preprocessing-project-tutorial/main/AB_NYC_2019.csv')\n",
                "data_raw.to_csv('../data/raw/raw.csv')\n",
                "data_raw.info()"
            ]
        },
        {
            "cell_type": "code",
            "execution_count": 3,
            "metadata": {},
            "outputs": [
                {
                    "data": {
                        "text/html": [
                            "<div>\n",
                            "<style scoped>\n",
                            "    .dataframe tbody tr th:only-of-type {\n",
                            "        vertical-align: middle;\n",
                            "    }\n",
                            "\n",
                            "    .dataframe tbody tr th {\n",
                            "        vertical-align: top;\n",
                            "    }\n",
                            "\n",
                            "    .dataframe thead th {\n",
                            "        text-align: right;\n",
                            "    }\n",
                            "</style>\n",
                            "<table border=\"1\" class=\"dataframe\">\n",
                            "  <thead>\n",
                            "    <tr style=\"text-align: right;\">\n",
                            "      <th></th>\n",
                            "      <th>id</th>\n",
                            "      <th>name</th>\n",
                            "      <th>host_id</th>\n",
                            "      <th>host_name</th>\n",
                            "      <th>neighbourhood_group</th>\n",
                            "      <th>neighbourhood</th>\n",
                            "      <th>latitude</th>\n",
                            "      <th>longitude</th>\n",
                            "      <th>room_type</th>\n",
                            "      <th>price</th>\n",
                            "      <th>minimum_nights</th>\n",
                            "      <th>number_of_reviews</th>\n",
                            "      <th>last_review</th>\n",
                            "      <th>reviews_per_month</th>\n",
                            "      <th>calculated_host_listings_count</th>\n",
                            "      <th>availability_365</th>\n",
                            "    </tr>\n",
                            "  </thead>\n",
                            "  <tbody>\n",
                            "    <tr>\n",
                            "      <th>29149</th>\n",
                            "      <td>22379701</td>\n",
                            "      <td>Private room + full bathroom / lots of sun + dogs</td>\n",
                            "      <td>92649019</td>\n",
                            "      <td>Sophie</td>\n",
                            "      <td>Brooklyn</td>\n",
                            "      <td>Crown Heights</td>\n",
                            "      <td>40.66921</td>\n",
                            "      <td>-73.92624</td>\n",
                            "      <td>Private room</td>\n",
                            "      <td>68</td>\n",
                            "      <td>6</td>\n",
                            "      <td>48</td>\n",
                            "      <td>2019-06-29</td>\n",
                            "      <td>2.59</td>\n",
                            "      <td>1</td>\n",
                            "      <td>0</td>\n",
                            "    </tr>\n",
                            "    <tr>\n",
                            "      <th>33317</th>\n",
                            "      <td>26325637</td>\n",
                            "      <td>Comfortable one bedroom apartment</td>\n",
                            "      <td>47718147</td>\n",
                            "      <td>Shalisa</td>\n",
                            "      <td>Brooklyn</td>\n",
                            "      <td>Bedford-Stuyvesant</td>\n",
                            "      <td>40.69150</td>\n",
                            "      <td>-73.94327</td>\n",
                            "      <td>Entire home/apt</td>\n",
                            "      <td>100</td>\n",
                            "      <td>1</td>\n",
                            "      <td>30</td>\n",
                            "      <td>2019-06-30</td>\n",
                            "      <td>2.50</td>\n",
                            "      <td>1</td>\n",
                            "      <td>176</td>\n",
                            "    </tr>\n",
                            "    <tr>\n",
                            "      <th>18669</th>\n",
                            "      <td>14774206</td>\n",
                            "      <td>South-By-Southwest Room</td>\n",
                            "      <td>92193254</td>\n",
                            "      <td>Max</td>\n",
                            "      <td>Manhattan</td>\n",
                            "      <td>Upper West Side</td>\n",
                            "      <td>40.80093</td>\n",
                            "      <td>-73.96010</td>\n",
                            "      <td>Private room</td>\n",
                            "      <td>97</td>\n",
                            "      <td>3</td>\n",
                            "      <td>96</td>\n",
                            "      <td>2019-07-06</td>\n",
                            "      <td>2.80</td>\n",
                            "      <td>1</td>\n",
                            "      <td>134</td>\n",
                            "    </tr>\n",
                            "    <tr>\n",
                            "      <th>11817</th>\n",
                            "      <td>9196408</td>\n",
                            "      <td>Large Sunny Room in West Harlem</td>\n",
                            "      <td>47838741</td>\n",
                            "      <td>Ibrahima</td>\n",
                            "      <td>Manhattan</td>\n",
                            "      <td>Harlem</td>\n",
                            "      <td>40.82411</td>\n",
                            "      <td>-73.94404</td>\n",
                            "      <td>Private room</td>\n",
                            "      <td>65</td>\n",
                            "      <td>5</td>\n",
                            "      <td>2</td>\n",
                            "      <td>2016-01-05</td>\n",
                            "      <td>0.05</td>\n",
                            "      <td>1</td>\n",
                            "      <td>159</td>\n",
                            "    </tr>\n",
                            "    <tr>\n",
                            "      <th>45557</th>\n",
                            "      <td>34832415</td>\n",
                            "      <td>Gay friendly</td>\n",
                            "      <td>6503950</td>\n",
                            "      <td>Rob</td>\n",
                            "      <td>Brooklyn</td>\n",
                            "      <td>Bushwick</td>\n",
                            "      <td>40.69339</td>\n",
                            "      <td>-73.90588</td>\n",
                            "      <td>Private room</td>\n",
                            "      <td>50</td>\n",
                            "      <td>1</td>\n",
                            "      <td>6</td>\n",
                            "      <td>2019-06-30</td>\n",
                            "      <td>4.74</td>\n",
                            "      <td>2</td>\n",
                            "      <td>311</td>\n",
                            "    </tr>\n",
                            "    <tr>\n",
                            "      <th>37130</th>\n",
                            "      <td>29515916</td>\n",
                            "      <td>* Modern Private BR in the Heart of Williamsbu...</td>\n",
                            "      <td>7268300</td>\n",
                            "      <td>Arianna</td>\n",
                            "      <td>Brooklyn</td>\n",
                            "      <td>Williamsburg</td>\n",
                            "      <td>40.71204</td>\n",
                            "      <td>-73.96541</td>\n",
                            "      <td>Private room</td>\n",
                            "      <td>80</td>\n",
                            "      <td>4</td>\n",
                            "      <td>3</td>\n",
                            "      <td>2019-05-28</td>\n",
                            "      <td>0.48</td>\n",
                            "      <td>1</td>\n",
                            "      <td>7</td>\n",
                            "    </tr>\n",
                            "    <tr>\n",
                            "      <th>45934</th>\n",
                            "      <td>35005183</td>\n",
                            "      <td>Sonder | 116 John | Comfortable Studio + Gym</td>\n",
                            "      <td>219517861</td>\n",
                            "      <td>Sonder (NYC)</td>\n",
                            "      <td>Manhattan</td>\n",
                            "      <td>Financial District</td>\n",
                            "      <td>40.70811</td>\n",
                            "      <td>-74.00616</td>\n",
                            "      <td>Entire home/apt</td>\n",
                            "      <td>100</td>\n",
                            "      <td>29</td>\n",
                            "      <td>0</td>\n",
                            "      <td>NaN</td>\n",
                            "      <td>NaN</td>\n",
                            "      <td>327</td>\n",
                            "      <td>333</td>\n",
                            "    </tr>\n",
                            "    <tr>\n",
                            "      <th>799</th>\n",
                            "      <td>285492</td>\n",
                            "      <td>Amazing 1 bedroom apt with NYC View</td>\n",
                            "      <td>1486034</td>\n",
                            "      <td>Eric</td>\n",
                            "      <td>Manhattan</td>\n",
                            "      <td>Chelsea</td>\n",
                            "      <td>40.74494</td>\n",
                            "      <td>-73.99980</td>\n",
                            "      <td>Entire home/apt</td>\n",
                            "      <td>385</td>\n",
                            "      <td>1</td>\n",
                            "      <td>63</td>\n",
                            "      <td>2018-08-03</td>\n",
                            "      <td>0.71</td>\n",
                            "      <td>1</td>\n",
                            "      <td>364</td>\n",
                            "    </tr>\n",
                            "    <tr>\n",
                            "      <th>45643</th>\n",
                            "      <td>34869328</td>\n",
                            "      <td>Whole house next to 2/5 trains- 30min to Manha...</td>\n",
                            "      <td>293911</td>\n",
                            "      <td>Sergios &amp; Fani</td>\n",
                            "      <td>Brooklyn</td>\n",
                            "      <td>East Flatbush</td>\n",
                            "      <td>40.64521</td>\n",
                            "      <td>-73.94452</td>\n",
                            "      <td>Entire home/apt</td>\n",
                            "      <td>220</td>\n",
                            "      <td>5</td>\n",
                            "      <td>0</td>\n",
                            "      <td>NaN</td>\n",
                            "      <td>NaN</td>\n",
                            "      <td>1</td>\n",
                            "      <td>75</td>\n",
                            "    </tr>\n",
                            "    <tr>\n",
                            "      <th>18296</th>\n",
                            "      <td>14351787</td>\n",
                            "      <td>1 room in Chic Apt in Astoria NYC</td>\n",
                            "      <td>49620552</td>\n",
                            "      <td>Raul</td>\n",
                            "      <td>Queens</td>\n",
                            "      <td>Astoria</td>\n",
                            "      <td>40.76933</td>\n",
                            "      <td>-73.91165</td>\n",
                            "      <td>Private room</td>\n",
                            "      <td>55</td>\n",
                            "      <td>1</td>\n",
                            "      <td>20</td>\n",
                            "      <td>2019-06-27</td>\n",
                            "      <td>0.63</td>\n",
                            "      <td>4</td>\n",
                            "      <td>252</td>\n",
                            "    </tr>\n",
                            "  </tbody>\n",
                            "</table>\n",
                            "</div>"
                        ],
                        "text/plain": [
                            "             id                                               name    host_id  \\\n",
                            "29149  22379701  Private room + full bathroom / lots of sun + dogs   92649019   \n",
                            "33317  26325637                  Comfortable one bedroom apartment   47718147   \n",
                            "18669  14774206                            South-By-Southwest Room   92193254   \n",
                            "11817   9196408                    Large Sunny Room in West Harlem   47838741   \n",
                            "45557  34832415                                       Gay friendly    6503950   \n",
                            "37130  29515916  * Modern Private BR in the Heart of Williamsbu...    7268300   \n",
                            "45934  35005183       Sonder | 116 John | Comfortable Studio + Gym  219517861   \n",
                            "799      285492                Amazing 1 bedroom apt with NYC View    1486034   \n",
                            "45643  34869328  Whole house next to 2/5 trains- 30min to Manha...     293911   \n",
                            "18296  14351787                  1 room in Chic Apt in Astoria NYC   49620552   \n",
                            "\n",
                            "            host_name neighbourhood_group       neighbourhood  latitude  \\\n",
                            "29149          Sophie            Brooklyn       Crown Heights  40.66921   \n",
                            "33317         Shalisa            Brooklyn  Bedford-Stuyvesant  40.69150   \n",
                            "18669             Max           Manhattan     Upper West Side  40.80093   \n",
                            "11817        Ibrahima           Manhattan              Harlem  40.82411   \n",
                            "45557             Rob            Brooklyn            Bushwick  40.69339   \n",
                            "37130         Arianna            Brooklyn        Williamsburg  40.71204   \n",
                            "45934    Sonder (NYC)           Manhattan  Financial District  40.70811   \n",
                            "799              Eric           Manhattan             Chelsea  40.74494   \n",
                            "45643  Sergios & Fani            Brooklyn       East Flatbush  40.64521   \n",
                            "18296            Raul              Queens             Astoria  40.76933   \n",
                            "\n",
                            "       longitude        room_type  price  minimum_nights  number_of_reviews  \\\n",
                            "29149  -73.92624     Private room     68               6                 48   \n",
                            "33317  -73.94327  Entire home/apt    100               1                 30   \n",
                            "18669  -73.96010     Private room     97               3                 96   \n",
                            "11817  -73.94404     Private room     65               5                  2   \n",
                            "45557  -73.90588     Private room     50               1                  6   \n",
                            "37130  -73.96541     Private room     80               4                  3   \n",
                            "45934  -74.00616  Entire home/apt    100              29                  0   \n",
                            "799    -73.99980  Entire home/apt    385               1                 63   \n",
                            "45643  -73.94452  Entire home/apt    220               5                  0   \n",
                            "18296  -73.91165     Private room     55               1                 20   \n",
                            "\n",
                            "      last_review  reviews_per_month  calculated_host_listings_count  \\\n",
                            "29149  2019-06-29               2.59                               1   \n",
                            "33317  2019-06-30               2.50                               1   \n",
                            "18669  2019-07-06               2.80                               1   \n",
                            "11817  2016-01-05               0.05                               1   \n",
                            "45557  2019-06-30               4.74                               2   \n",
                            "37130  2019-05-28               0.48                               1   \n",
                            "45934         NaN                NaN                             327   \n",
                            "799    2018-08-03               0.71                               1   \n",
                            "45643         NaN                NaN                               1   \n",
                            "18296  2019-06-27               0.63                               4   \n",
                            "\n",
                            "       availability_365  \n",
                            "29149                 0  \n",
                            "33317               176  \n",
                            "18669               134  \n",
                            "11817               159  \n",
                            "45557               311  \n",
                            "37130                 7  \n",
                            "45934               333  \n",
                            "799                 364  \n",
                            "45643                75  \n",
                            "18296               252  "
                        ]
                    },
                    "execution_count": 3,
                    "metadata": {},
                    "output_type": "execute_result"
                }
            ],
            "source": [
                "#Let's take a sample of the Data\n",
                "data_raw.sample(10)"
            ]
        },
        {
            "cell_type": "code",
            "execution_count": 65,
            "metadata": {},
            "outputs": [],
            "source": [
                "#Create a copy of the dataset to clean up\n",
                "df_processed = data_raw.copy()"
            ]
        },
        {
            "cell_type": "code",
            "execution_count": 66,
            "metadata": {},
            "outputs": [],
            "source": [
                "df_processed = df_processed.drop(['id','latitude','longitude','last_review','name'], axis= 1)\n",
                "\n",
                "df_processed['neighbourhood_group'] = pd.Categorical(df_processed['neighbourhood_group'])\n",
                "\n",
                "df_processed['neighbourhood'] = pd.Categorical(df_processed['neighbourhood'])\n",
                "\n",
                "df_processed['room_type'] = pd.Categorical(df_processed['room_type'])\n",
                "\n",
                "\n",
                "\n"
            ]
        },
        {
            "cell_type": "code",
            "execution_count": 67,
            "metadata": {},
            "outputs": [],
            "source": [
                "df_processed.to_csv('../data/processed/processed.csv')\n",
                "df = df_processed.copy()"
            ]
        },
        {
            "cell_type": "code",
            "execution_count": 69,
            "metadata": {},
            "outputs": [
                {
                    "data": {
                        "text/html": [
                            "<div>\n",
                            "<style scoped>\n",
                            "    .dataframe tbody tr th:only-of-type {\n",
                            "        vertical-align: middle;\n",
                            "    }\n",
                            "\n",
                            "    .dataframe tbody tr th {\n",
                            "        vertical-align: top;\n",
                            "    }\n",
                            "\n",
                            "    .dataframe thead th {\n",
                            "        text-align: right;\n",
                            "    }\n",
                            "</style>\n",
                            "<table border=\"1\" class=\"dataframe\">\n",
                            "  <thead>\n",
                            "    <tr style=\"text-align: right;\">\n",
                            "      <th></th>\n",
                            "      <th>host_id</th>\n",
                            "      <th>host_name</th>\n",
                            "      <th>neighbourhood_group</th>\n",
                            "      <th>neighbourhood</th>\n",
                            "      <th>room_type</th>\n",
                            "      <th>price</th>\n",
                            "      <th>minimum_nights</th>\n",
                            "      <th>number_of_reviews</th>\n",
                            "      <th>reviews_per_month</th>\n",
                            "      <th>calculated_host_listings_count</th>\n",
                            "      <th>availability_365</th>\n",
                            "    </tr>\n",
                            "  </thead>\n",
                            "  <tbody>\n",
                            "    <tr>\n",
                            "      <th>11399</th>\n",
                            "      <td>46365876</td>\n",
                            "      <td>Josefine</td>\n",
                            "      <td>Manhattan</td>\n",
                            "      <td>East Village</td>\n",
                            "      <td>Entire home/apt</td>\n",
                            "      <td>125</td>\n",
                            "      <td>2</td>\n",
                            "      <td>2</td>\n",
                            "      <td>0.06</td>\n",
                            "      <td>1</td>\n",
                            "      <td>0</td>\n",
                            "    </tr>\n",
                            "    <tr>\n",
                            "      <th>16765</th>\n",
                            "      <td>16437254</td>\n",
                            "      <td>Benjamin</td>\n",
                            "      <td>Brooklyn</td>\n",
                            "      <td>Boerum Hill</td>\n",
                            "      <td>Entire home/apt</td>\n",
                            "      <td>120</td>\n",
                            "      <td>30</td>\n",
                            "      <td>7</td>\n",
                            "      <td>0.38</td>\n",
                            "      <td>21</td>\n",
                            "      <td>342</td>\n",
                            "    </tr>\n",
                            "    <tr>\n",
                            "      <th>35547</th>\n",
                            "      <td>7592992</td>\n",
                            "      <td>Sam</td>\n",
                            "      <td>Brooklyn</td>\n",
                            "      <td>Prospect Heights</td>\n",
                            "      <td>Private room</td>\n",
                            "      <td>90</td>\n",
                            "      <td>1</td>\n",
                            "      <td>0</td>\n",
                            "      <td>NaN</td>\n",
                            "      <td>1</td>\n",
                            "      <td>0</td>\n",
                            "    </tr>\n",
                            "    <tr>\n",
                            "      <th>38193</th>\n",
                            "      <td>215531390</td>\n",
                            "      <td>Annie Veronique</td>\n",
                            "      <td>Manhattan</td>\n",
                            "      <td>Hell's Kitchen</td>\n",
                            "      <td>Entire home/apt</td>\n",
                            "      <td>269</td>\n",
                            "      <td>4</td>\n",
                            "      <td>6</td>\n",
                            "      <td>0.92</td>\n",
                            "      <td>1</td>\n",
                            "      <td>43</td>\n",
                            "    </tr>\n",
                            "    <tr>\n",
                            "      <th>25644</th>\n",
                            "      <td>146620661</td>\n",
                            "      <td>Mary</td>\n",
                            "      <td>Manhattan</td>\n",
                            "      <td>Upper East Side</td>\n",
                            "      <td>Entire home/apt</td>\n",
                            "      <td>200</td>\n",
                            "      <td>5</td>\n",
                            "      <td>4</td>\n",
                            "      <td>0.18</td>\n",
                            "      <td>1</td>\n",
                            "      <td>0</td>\n",
                            "    </tr>\n",
                            "    <tr>\n",
                            "      <th>26267</th>\n",
                            "      <td>15487773</td>\n",
                            "      <td>Sorcha</td>\n",
                            "      <td>Manhattan</td>\n",
                            "      <td>Chelsea</td>\n",
                            "      <td>Private room</td>\n",
                            "      <td>100</td>\n",
                            "      <td>2</td>\n",
                            "      <td>4</td>\n",
                            "      <td>0.19</td>\n",
                            "      <td>1</td>\n",
                            "      <td>0</td>\n",
                            "    </tr>\n",
                            "    <tr>\n",
                            "      <th>25359</th>\n",
                            "      <td>31687922</td>\n",
                            "      <td>Jonathan</td>\n",
                            "      <td>Queens</td>\n",
                            "      <td>Flushing</td>\n",
                            "      <td>Entire home/apt</td>\n",
                            "      <td>120</td>\n",
                            "      <td>1</td>\n",
                            "      <td>104</td>\n",
                            "      <td>4.44</td>\n",
                            "      <td>1</td>\n",
                            "      <td>90</td>\n",
                            "    </tr>\n",
                            "    <tr>\n",
                            "      <th>45891</th>\n",
                            "      <td>263670476</td>\n",
                            "      <td>Algerchaabi</td>\n",
                            "      <td>Brooklyn</td>\n",
                            "      <td>Bay Ridge</td>\n",
                            "      <td>Entire home/apt</td>\n",
                            "      <td>1800</td>\n",
                            "      <td>30</td>\n",
                            "      <td>0</td>\n",
                            "      <td>NaN</td>\n",
                            "      <td>1</td>\n",
                            "      <td>335</td>\n",
                            "    </tr>\n",
                            "    <tr>\n",
                            "      <th>40110</th>\n",
                            "      <td>232283561</td>\n",
                            "      <td>Beverline</td>\n",
                            "      <td>Bronx</td>\n",
                            "      <td>East Morrisania</td>\n",
                            "      <td>Private room</td>\n",
                            "      <td>125</td>\n",
                            "      <td>1</td>\n",
                            "      <td>9</td>\n",
                            "      <td>1.46</td>\n",
                            "      <td>3</td>\n",
                            "      <td>80</td>\n",
                            "    </tr>\n",
                            "    <tr>\n",
                            "      <th>26812</th>\n",
                            "      <td>25265179</td>\n",
                            "      <td>Veronica</td>\n",
                            "      <td>Manhattan</td>\n",
                            "      <td>Nolita</td>\n",
                            "      <td>Entire home/apt</td>\n",
                            "      <td>250</td>\n",
                            "      <td>1</td>\n",
                            "      <td>9</td>\n",
                            "      <td>0.75</td>\n",
                            "      <td>1</td>\n",
                            "      <td>0</td>\n",
                            "    </tr>\n",
                            "  </tbody>\n",
                            "</table>\n",
                            "</div>"
                        ],
                        "text/plain": [
                            "         host_id        host_name neighbourhood_group     neighbourhood  \\\n",
                            "11399   46365876         Josefine           Manhattan      East Village   \n",
                            "16765   16437254         Benjamin            Brooklyn       Boerum Hill   \n",
                            "35547    7592992              Sam            Brooklyn  Prospect Heights   \n",
                            "38193  215531390  Annie Veronique           Manhattan    Hell's Kitchen   \n",
                            "25644  146620661             Mary           Manhattan   Upper East Side   \n",
                            "26267   15487773           Sorcha           Manhattan           Chelsea   \n",
                            "25359   31687922         Jonathan              Queens          Flushing   \n",
                            "45891  263670476      Algerchaabi            Brooklyn         Bay Ridge   \n",
                            "40110  232283561        Beverline               Bronx   East Morrisania   \n",
                            "26812   25265179         Veronica           Manhattan            Nolita   \n",
                            "\n",
                            "             room_type  price  minimum_nights  number_of_reviews  \\\n",
                            "11399  Entire home/apt    125               2                  2   \n",
                            "16765  Entire home/apt    120              30                  7   \n",
                            "35547     Private room     90               1                  0   \n",
                            "38193  Entire home/apt    269               4                  6   \n",
                            "25644  Entire home/apt    200               5                  4   \n",
                            "26267     Private room    100               2                  4   \n",
                            "25359  Entire home/apt    120               1                104   \n",
                            "45891  Entire home/apt   1800              30                  0   \n",
                            "40110     Private room    125               1                  9   \n",
                            "26812  Entire home/apt    250               1                  9   \n",
                            "\n",
                            "       reviews_per_month  calculated_host_listings_count  availability_365  \n",
                            "11399               0.06                               1                 0  \n",
                            "16765               0.38                              21               342  \n",
                            "35547                NaN                               1                 0  \n",
                            "38193               0.92                               1                43  \n",
                            "25644               0.18                               1                 0  \n",
                            "26267               0.19                               1                 0  \n",
                            "25359               4.44                               1                90  \n",
                            "45891                NaN                               1               335  \n",
                            "40110               1.46                               3                80  \n",
                            "26812               0.75                               1                 0  "
                        ]
                    },
                    "execution_count": 69,
                    "metadata": {},
                    "output_type": "execute_result"
                }
            ],
            "source": [
                "df.sample(10)"
            ]
        },
        {
            "cell_type": "code",
            "execution_count": 70,
            "metadata": {},
            "outputs": [
                {
                    "name": "stdout",
                    "output_type": "stream",
                    "text": [
                        "<class 'pandas.core.frame.DataFrame'>\n",
                        "RangeIndex: 48895 entries, 0 to 48894\n",
                        "Data columns (total 11 columns):\n",
                        " #   Column                          Non-Null Count  Dtype   \n",
                        "---  ------                          --------------  -----   \n",
                        " 0   host_id                         48895 non-null  int64   \n",
                        " 1   host_name                       48874 non-null  object  \n",
                        " 2   neighbourhood_group             48895 non-null  category\n",
                        " 3   neighbourhood                   48895 non-null  category\n",
                        " 4   room_type                       48895 non-null  category\n",
                        " 5   price                           48895 non-null  int64   \n",
                        " 6   minimum_nights                  48895 non-null  int64   \n",
                        " 7   number_of_reviews               48895 non-null  int64   \n",
                        " 8   reviews_per_month               38843 non-null  float64 \n",
                        " 9   calculated_host_listings_count  48895 non-null  int64   \n",
                        " 10  availability_365                48895 non-null  int64   \n",
                        "dtypes: category(3), float64(1), int64(6), object(1)\n",
                        "memory usage: 3.2+ MB\n"
                    ]
                }
            ],
            "source": [
                "df.info()"
            ]
        },
        {
            "cell_type": "code",
            "execution_count": 71,
            "metadata": {},
            "outputs": [
                {
                    "data": {
                        "text/html": [
                            "<div>\n",
                            "<style scoped>\n",
                            "    .dataframe tbody tr th:only-of-type {\n",
                            "        vertical-align: middle;\n",
                            "    }\n",
                            "\n",
                            "    .dataframe tbody tr th {\n",
                            "        vertical-align: top;\n",
                            "    }\n",
                            "\n",
                            "    .dataframe thead th {\n",
                            "        text-align: right;\n",
                            "    }\n",
                            "</style>\n",
                            "<table border=\"1\" class=\"dataframe\">\n",
                            "  <thead>\n",
                            "    <tr style=\"text-align: right;\">\n",
                            "      <th></th>\n",
                            "      <th>count</th>\n",
                            "      <th>mean</th>\n",
                            "      <th>std</th>\n",
                            "      <th>min</th>\n",
                            "      <th>25%</th>\n",
                            "      <th>50%</th>\n",
                            "      <th>75%</th>\n",
                            "      <th>max</th>\n",
                            "    </tr>\n",
                            "  </thead>\n",
                            "  <tbody>\n",
                            "    <tr>\n",
                            "      <th>host_id</th>\n",
                            "      <td>48895.0</td>\n",
                            "      <td>6.762001e+07</td>\n",
                            "      <td>7.861097e+07</td>\n",
                            "      <td>2438.00</td>\n",
                            "      <td>7822033.00</td>\n",
                            "      <td>30793816.00</td>\n",
                            "      <td>1.074344e+08</td>\n",
                            "      <td>274321313.0</td>\n",
                            "    </tr>\n",
                            "    <tr>\n",
                            "      <th>price</th>\n",
                            "      <td>48895.0</td>\n",
                            "      <td>1.527207e+02</td>\n",
                            "      <td>2.401542e+02</td>\n",
                            "      <td>0.00</td>\n",
                            "      <td>69.00</td>\n",
                            "      <td>106.00</td>\n",
                            "      <td>1.750000e+02</td>\n",
                            "      <td>10000.0</td>\n",
                            "    </tr>\n",
                            "    <tr>\n",
                            "      <th>minimum_nights</th>\n",
                            "      <td>48895.0</td>\n",
                            "      <td>7.029962e+00</td>\n",
                            "      <td>2.051055e+01</td>\n",
                            "      <td>1.00</td>\n",
                            "      <td>1.00</td>\n",
                            "      <td>3.00</td>\n",
                            "      <td>5.000000e+00</td>\n",
                            "      <td>1250.0</td>\n",
                            "    </tr>\n",
                            "    <tr>\n",
                            "      <th>number_of_reviews</th>\n",
                            "      <td>48895.0</td>\n",
                            "      <td>2.327447e+01</td>\n",
                            "      <td>4.455058e+01</td>\n",
                            "      <td>0.00</td>\n",
                            "      <td>1.00</td>\n",
                            "      <td>5.00</td>\n",
                            "      <td>2.400000e+01</td>\n",
                            "      <td>629.0</td>\n",
                            "    </tr>\n",
                            "    <tr>\n",
                            "      <th>reviews_per_month</th>\n",
                            "      <td>38843.0</td>\n",
                            "      <td>1.373221e+00</td>\n",
                            "      <td>1.680442e+00</td>\n",
                            "      <td>0.01</td>\n",
                            "      <td>0.19</td>\n",
                            "      <td>0.72</td>\n",
                            "      <td>2.020000e+00</td>\n",
                            "      <td>58.5</td>\n",
                            "    </tr>\n",
                            "    <tr>\n",
                            "      <th>calculated_host_listings_count</th>\n",
                            "      <td>48895.0</td>\n",
                            "      <td>7.143982e+00</td>\n",
                            "      <td>3.295252e+01</td>\n",
                            "      <td>1.00</td>\n",
                            "      <td>1.00</td>\n",
                            "      <td>1.00</td>\n",
                            "      <td>2.000000e+00</td>\n",
                            "      <td>327.0</td>\n",
                            "    </tr>\n",
                            "    <tr>\n",
                            "      <th>availability_365</th>\n",
                            "      <td>48895.0</td>\n",
                            "      <td>1.127813e+02</td>\n",
                            "      <td>1.316223e+02</td>\n",
                            "      <td>0.00</td>\n",
                            "      <td>0.00</td>\n",
                            "      <td>45.00</td>\n",
                            "      <td>2.270000e+02</td>\n",
                            "      <td>365.0</td>\n",
                            "    </tr>\n",
                            "  </tbody>\n",
                            "</table>\n",
                            "</div>"
                        ],
                        "text/plain": [
                            "                                  count          mean           std      min  \\\n",
                            "host_id                         48895.0  6.762001e+07  7.861097e+07  2438.00   \n",
                            "price                           48895.0  1.527207e+02  2.401542e+02     0.00   \n",
                            "minimum_nights                  48895.0  7.029962e+00  2.051055e+01     1.00   \n",
                            "number_of_reviews               48895.0  2.327447e+01  4.455058e+01     0.00   \n",
                            "reviews_per_month               38843.0  1.373221e+00  1.680442e+00     0.01   \n",
                            "calculated_host_listings_count  48895.0  7.143982e+00  3.295252e+01     1.00   \n",
                            "availability_365                48895.0  1.127813e+02  1.316223e+02     0.00   \n",
                            "\n",
                            "                                       25%          50%           75%  \\\n",
                            "host_id                         7822033.00  30793816.00  1.074344e+08   \n",
                            "price                                69.00       106.00  1.750000e+02   \n",
                            "minimum_nights                        1.00         3.00  5.000000e+00   \n",
                            "number_of_reviews                     1.00         5.00  2.400000e+01   \n",
                            "reviews_per_month                     0.19         0.72  2.020000e+00   \n",
                            "calculated_host_listings_count        1.00         1.00  2.000000e+00   \n",
                            "availability_365                      0.00        45.00  2.270000e+02   \n",
                            "\n",
                            "                                        max  \n",
                            "host_id                         274321313.0  \n",
                            "price                               10000.0  \n",
                            "minimum_nights                       1250.0  \n",
                            "number_of_reviews                     629.0  \n",
                            "reviews_per_month                      58.5  \n",
                            "calculated_host_listings_count        327.0  \n",
                            "availability_365                      365.0  "
                        ]
                    },
                    "execution_count": 71,
                    "metadata": {},
                    "output_type": "execute_result"
                }
            ],
            "source": [
                "df.describe().T"
            ]
        },
        {
            "cell_type": "code",
            "execution_count": 72,
            "metadata": {},
            "outputs": [
                {
                    "data": {
                        "text/plain": [
                            "host_id\n",
                            "219517861    327\n",
                            "107434423    232\n",
                            "30283594     121\n",
                            "137358866    103\n",
                            "16098958      96\n",
                            "            ... \n",
                            "23727216       1\n",
                            "89211125       1\n",
                            "19928013       1\n",
                            "1017772        1\n",
                            "68119814       1\n",
                            "Name: count, Length: 37457, dtype: int64"
                        ]
                    },
                    "execution_count": 72,
                    "metadata": {},
                    "output_type": "execute_result"
                }
            ],
            "source": [
                "df['host_id'].value_counts()"
            ]
        },
        {
            "cell_type": "code",
            "execution_count": 73,
            "metadata": {},
            "outputs": [
                {
                    "data": {
                        "text/plain": [
                            "host_name\n",
                            "Michael              417\n",
                            "David                403\n",
                            "Sonder (NYC)         327\n",
                            "John                 294\n",
                            "Alex                 279\n",
                            "                    ... \n",
                            "Rhonycs                1\n",
                            "Brandy-Courtney        1\n",
                            "Shanthony              1\n",
                            "Aurore And Jamila      1\n",
                            "Ilgar & Aysel          1\n",
                            "Name: count, Length: 11452, dtype: int64"
                        ]
                    },
                    "execution_count": 73,
                    "metadata": {},
                    "output_type": "execute_result"
                }
            ],
            "source": [
                "df['host_name'].value_counts()"
            ]
        },
        {
            "cell_type": "code",
            "execution_count": 74,
            "metadata": {},
            "outputs": [
                {
                    "data": {
                        "text/plain": [
                            "host_id\n",
                            "7245581      19\n",
                            "100238132    12\n",
                            "271393608     6\n",
                            "36889012      4\n",
                            "99392252      4\n",
                            "             ..\n",
                            "18362341      1\n",
                            "14476679      1\n",
                            "23269511      1\n",
                            "25116430      1\n",
                            "151831356     1\n",
                            "Name: count, Length: 335, dtype: int64"
                        ]
                    },
                    "execution_count": 74,
                    "metadata": {},
                    "output_type": "execute_result"
                }
            ],
            "source": [
                "#From the previous two value_counts from 'host_id' and 'host_name' it is possible to defer that multiple two or more hosts have the same name.\n",
                "#Let's confirm with an example for the Name 'Michael'\n",
                "\n",
                "df[df.host_name == 'Michael']['host_id'].value_counts()"
            ]
        },
        {
            "cell_type": "code",
            "execution_count": 75,
            "metadata": {},
            "outputs": [
                {
                    "data": {
                        "text/plain": [
                            "neighbourhood_group\n",
                            "Manhattan        327\n",
                            "Bronx              0\n",
                            "Brooklyn           0\n",
                            "Queens             0\n",
                            "Staten Island      0\n",
                            "Name: count, dtype: int64"
                        ]
                    },
                    "execution_count": 75,
                    "metadata": {},
                    "output_type": "execute_result"
                }
            ],
            "source": [
                "#From this result, it is confirmed that the 'host_id' will be required to diferentiated between hosts. Name will not work.\n",
                "\n",
                "#Value counts for 'host_id' column shows that a single host can have multiple airbnb's. For example, the Host host_id='219517861' owns the biggest quantities of Airbnbs.\n",
                "\n",
                "df[df.host_id == 219517861]['neighbourhood_group'].value_counts()"
            ]
        },
        {
            "cell_type": "code",
            "execution_count": 76,
            "metadata": {},
            "outputs": [
                {
                    "data": {
                        "text/html": [
                            "<div>\n",
                            "<style scoped>\n",
                            "    .dataframe tbody tr th:only-of-type {\n",
                            "        vertical-align: middle;\n",
                            "    }\n",
                            "\n",
                            "    .dataframe tbody tr th {\n",
                            "        vertical-align: top;\n",
                            "    }\n",
                            "\n",
                            "    .dataframe thead th {\n",
                            "        text-align: right;\n",
                            "    }\n",
                            "</style>\n",
                            "<table border=\"1\" class=\"dataframe\">\n",
                            "  <thead>\n",
                            "    <tr style=\"text-align: right;\">\n",
                            "      <th></th>\n",
                            "      <th>host_id</th>\n",
                            "      <th>number_of_reviews</th>\n",
                            "    </tr>\n",
                            "  </thead>\n",
                            "  <tbody>\n",
                            "    <tr>\n",
                            "      <th>21316</th>\n",
                            "      <td>37312959</td>\n",
                            "      <td>2273</td>\n",
                            "    </tr>\n",
                            "    <tr>\n",
                            "      <th>1052</th>\n",
                            "      <td>344035</td>\n",
                            "      <td>2205</td>\n",
                            "    </tr>\n",
                            "    <tr>\n",
                            "      <th>18636</th>\n",
                            "      <td>26432133</td>\n",
                            "      <td>2017</td>\n",
                            "    </tr>\n",
                            "    <tr>\n",
                            "      <th>20884</th>\n",
                            "      <td>35524316</td>\n",
                            "      <td>1971</td>\n",
                            "    </tr>\n",
                            "    <tr>\n",
                            "      <th>21934</th>\n",
                            "      <td>40176101</td>\n",
                            "      <td>1818</td>\n",
                            "    </tr>\n",
                            "    <tr>\n",
                            "      <th>...</th>\n",
                            "      <td>...</td>\n",
                            "      <td>...</td>\n",
                            "    </tr>\n",
                            "    <tr>\n",
                            "      <th>31250</th>\n",
                            "      <td>140338526</td>\n",
                            "      <td>0</td>\n",
                            "    </tr>\n",
                            "    <tr>\n",
                            "      <th>17927</th>\n",
                            "      <td>24508767</td>\n",
                            "      <td>0</td>\n",
                            "    </tr>\n",
                            "    <tr>\n",
                            "      <th>31248</th>\n",
                            "      <td>140323391</td>\n",
                            "      <td>0</td>\n",
                            "    </tr>\n",
                            "    <tr>\n",
                            "      <th>31247</th>\n",
                            "      <td>140312311</td>\n",
                            "      <td>0</td>\n",
                            "    </tr>\n",
                            "    <tr>\n",
                            "      <th>37456</th>\n",
                            "      <td>274321313</td>\n",
                            "      <td>0</td>\n",
                            "    </tr>\n",
                            "  </tbody>\n",
                            "</table>\n",
                            "<p>37457 rows × 2 columns</p>\n",
                            "</div>"
                        ],
                        "text/plain": [
                            "         host_id  number_of_reviews\n",
                            "21316   37312959               2273\n",
                            "1052      344035               2205\n",
                            "18636   26432133               2017\n",
                            "20884   35524316               1971\n",
                            "21934   40176101               1818\n",
                            "...          ...                ...\n",
                            "31250  140338526                  0\n",
                            "17927   24508767                  0\n",
                            "31248  140323391                  0\n",
                            "31247  140312311                  0\n",
                            "37456  274321313                  0\n",
                            "\n",
                            "[37457 rows x 2 columns]"
                        ]
                    },
                    "execution_count": 76,
                    "metadata": {},
                    "output_type": "execute_result"
                }
            ],
            "source": [
                "grouped_reviews = df.groupby(['host_id'])['number_of_reviews'].sum().reset_index()\n",
                "grouped_reviews.sort_values('number_of_reviews', ascending=False)"
            ]
        },
        {
            "cell_type": "code",
            "execution_count": 77,
            "metadata": {},
            "outputs": [],
            "source": [
                "# The host with the most number of reviews is host_id = '37312959'. While some other hosts haven't receive any reviews.\n",
                "\n",
                "# Let's analyse the areas"
            ]
        },
        {
            "cell_type": "code",
            "execution_count": 78,
            "metadata": {},
            "outputs": [
                {
                    "data": {
                        "text/plain": [
                            "neighbourhood_group\n",
                            "Manhattan        21661\n",
                            "Brooklyn         20104\n",
                            "Queens            5666\n",
                            "Bronx             1091\n",
                            "Staten Island      373\n",
                            "Name: count, dtype: int64"
                        ]
                    },
                    "execution_count": 78,
                    "metadata": {},
                    "output_type": "execute_result"
                }
            ],
            "source": [
                "df['neighbourhood_group'].value_counts()"
            ]
        },
        {
            "cell_type": "code",
            "execution_count": 79,
            "metadata": {},
            "outputs": [
                {
                    "name": "stderr",
                    "output_type": "stream",
                    "text": [
                        "/workspaces/data-processing-project-tutorial/.env/lib/python3.11/site-packages/seaborn/_oldcore.py:1498: FutureWarning: is_categorical_dtype is deprecated and will be removed in a future version. Use isinstance(dtype, CategoricalDtype) instead\n",
                        "  if pd.api.types.is_categorical_dtype(vector):\n",
                        "/workspaces/data-processing-project-tutorial/.env/lib/python3.11/site-packages/seaborn/categorical.py:641: FutureWarning: The default of observed=False is deprecated and will be changed to True in a future version of pandas. Pass observed=False to retain current behavior or observed=True to adopt the future default and silence this warning.\n",
                        "  grouped_vals = vals.groupby(grouper)\n"
                    ]
                },
                {
                    "data": {
                        "image/png": "[encoded data removed]",
                        "text/plain": [
                            "<Figure size 640x480 with 1 Axes>"
                        ]
                    },
                    "metadata": {},
                    "output_type": "display_data"
                }
            ],
            "source": [
                "sns.countplot(data = df, x = 'neighbourhood_group')\n",
                "plt.show()"
            ]
        },
        {
            "cell_type": "code",
            "execution_count": 80,
            "metadata": {},
            "outputs": [
                {
                    "data": {
                        "text/plain": [
                            "neighbourhood\n",
                            "Williamsburg          3920\n",
                            "Bedford-Stuyvesant    3714\n",
                            "Harlem                2658\n",
                            "Bushwick              2465\n",
                            "Upper West Side       1971\n",
                            "                      ... \n",
                            "Richmondtown             1\n",
                            "Willowbrook              1\n",
                            "Fort Wadsworth           1\n",
                            "New Dorp                 1\n",
                            "Woodrow                  1\n",
                            "Name: count, Length: 221, dtype: int64"
                        ]
                    },
                    "execution_count": 80,
                    "metadata": {},
                    "output_type": "execute_result"
                }
            ],
            "source": [
                "df['neighbourhood'].value_counts()"
            ]
        },
        {
            "cell_type": "code",
            "execution_count": 81,
            "metadata": {},
            "outputs": [],
            "source": [
                "# The Data set contains 5 different neighbourhood groups. And 221 different neighbourhoods. The neighbourhood groups that offers most airbnb options is Manhattan,\n",
                "# with an offer of 21661 places, while Staten Island offers only 373.\n",
                "\n",
                "# The neighbourhood with the most offers for Airbnb is Williamsburg, with 3920. While multiple neighbourhood's offer a single Aribnb option."
            ]
        },
        {
            "cell_type": "code",
            "execution_count": 82,
            "metadata": {},
            "outputs": [
                {
                    "name": "stderr",
                    "output_type": "stream",
                    "text": [
                        "/tmp/ipykernel_62075/2761619830.py:1: FutureWarning: The default of observed=False is deprecated and will be changed to True in a future version of pandas. Pass observed=False to retain current behavior or observed=True to adopt the future default and silence this warning.\n",
                        "  df.groupby(['neighbourhood_group'])['price'].mean().sort_values()\n"
                    ]
                },
                {
                    "data": {
                        "text/plain": [
                            "neighbourhood_group\n",
                            "Bronx             87.496792\n",
                            "Queens            99.517649\n",
                            "Staten Island    114.812332\n",
                            "Brooklyn         124.383207\n",
                            "Manhattan        196.875814\n",
                            "Name: price, dtype: float64"
                        ]
                    },
                    "execution_count": 82,
                    "metadata": {},
                    "output_type": "execute_result"
                }
            ],
            "source": [
                "df.groupby(['neighbourhood_group'])['price'].mean().sort_values()"
            ]
        },
        {
            "cell_type": "code",
            "execution_count": 83,
            "metadata": {},
            "outputs": [
                {
                    "name": "stderr",
                    "output_type": "stream",
                    "text": [
                        "/tmp/ipykernel_62075/3545132381.py:1: FutureWarning: The default of observed=False is deprecated and will be changed to True in a future version of pandas. Pass observed=False to retain current behavior or observed=True to adopt the future default and silence this warning.\n",
                        "  df.groupby(['neighbourhood_group'])['price'].mean().sort_values().plot(kind='bar')\n"
                    ]
                },
                {
                    "data": {
                        "image/png": "[encoded data removed]",
                        "text/plain": [
                            "<Figure size 640x480 with 1 Axes>"
                        ]
                    },
                    "metadata": {},
                    "output_type": "display_data"
                }
            ],
            "source": [
                "df.groupby(['neighbourhood_group'])['price'].mean().sort_values().plot(kind='bar')\n",
                "plt.show()"
            ]
        },
        {
            "cell_type": "code",
            "execution_count": 84,
            "metadata": {},
            "outputs": [],
            "source": [
                "# The cheapest Neighbourhood Group is Bronx, with $87.50 per night, on average. The most expensive Neighbourhood Group is Manhattan, with an average of $196.87 per night."
            ]
        },
        {
            "cell_type": "code",
            "execution_count": 85,
            "metadata": {},
            "outputs": [
                {
                    "name": "stderr",
                    "output_type": "stream",
                    "text": [
                        "/tmp/ipykernel_62075/1092395844.py:1: FutureWarning: The default of observed=False is deprecated and will be changed to True in a future version of pandas. Pass observed=False to retain current behavior or observed=True to adopt the future default and silence this warning.\n",
                        "  df.groupby(['neighbourhood_group','neighbourhood'])['price'].mean().sort_values()\n"
                    ]
                },
                {
                    "data": {
                        "text/plain": [
                            "neighbourhood_group  neighbourhood  \n",
                            "Staten Island        Bull's Head        47.333333\n",
                            "Bronx                Hunts Point        50.500000\n",
                            "                     Tremont            51.545455\n",
                            "                     Soundview          53.466667\n",
                            "Staten Island        New Dorp           57.000000\n",
                            "                                          ...    \n",
                            "                     Williamsburg             NaN\n",
                            "                     Windsor Terrace          NaN\n",
                            "                     Woodhaven                NaN\n",
                            "                     Woodlawn                 NaN\n",
                            "                     Woodside                 NaN\n",
                            "Name: price, Length: 1105, dtype: float64"
                        ]
                    },
                    "execution_count": 85,
                    "metadata": {},
                    "output_type": "execute_result"
                }
            ],
            "source": [
                "df.groupby(['neighbourhood_group','neighbourhood'])['price'].mean().sort_values()"
            ]
        },
        {
            "cell_type": "code",
            "execution_count": 86,
            "metadata": {},
            "outputs": [],
            "source": [
                "#Staten Island contains both the most expesive and the cheapest neighbourhood. Bull's head with an average of $47.33 per night, and Fort Wadsworth with an average of $800 per night."
            ]
        },
        {
            "cell_type": "code",
            "execution_count": 87,
            "metadata": {},
            "outputs": [
                {
                    "name": "stderr",
                    "output_type": "stream",
                    "text": [
                        "/tmp/ipykernel_62075/4027703684.py:1: FutureWarning: The default of observed=False is deprecated and will be changed to True in a future version of pandas. Pass observed=False to retain current behavior or observed=True to adopt the future default and silence this warning.\n",
                        "  df.groupby(['neighbourhood_group'])['availability_365'].mean().sort_values()\n"
                    ]
                },
                {
                    "data": {
                        "text/plain": [
                            "neighbourhood_group\n",
                            "Brooklyn         100.232292\n",
                            "Manhattan        111.979410\n",
                            "Queens           144.451818\n",
                            "Bronx            165.758937\n",
                            "Staten Island    199.678284\n",
                            "Name: availability_365, dtype: float64"
                        ]
                    },
                    "execution_count": 87,
                    "metadata": {},
                    "output_type": "execute_result"
                }
            ],
            "source": [
                "df.groupby(['neighbourhood_group'])['availability_365'].mean().sort_values()"
            ]
        },
        {
            "cell_type": "code",
            "execution_count": 88,
            "metadata": {},
            "outputs": [
                {
                    "name": "stderr",
                    "output_type": "stream",
                    "text": [
                        "/tmp/ipykernel_62075/2094422704.py:1: FutureWarning: The default of observed=False is deprecated and will be changed to True in a future version of pandas. Pass observed=False to retain current behavior or observed=True to adopt the future default and silence this warning.\n",
                        "  df.groupby(['neighbourhood_group'])['availability_365'].mean().sort_values().plot(kind='bar')\n"
                    ]
                },
                {
                    "data": {
                        "image/png": "[encoded data removed]",
                        "text/plain": [
                            "<Figure size 640x480 with 1 Axes>"
                        ]
                    },
                    "metadata": {},
                    "output_type": "display_data"
                }
            ],
            "source": [
                "df.groupby(['neighbourhood_group'])['availability_365'].mean().sort_values().plot(kind='bar')\n",
                "plt.show()"
            ]
        },
        {
            "cell_type": "code",
            "execution_count": 89,
            "metadata": {},
            "outputs": [
                {
                    "name": "stderr",
                    "output_type": "stream",
                    "text": [
                        "/tmp/ipykernel_62075/1717237381.py:1: FutureWarning: The default of observed=False is deprecated and will be changed to True in a future version of pandas. Pass observed=False to retain current behavior or observed=True to adopt the future default and silence this warning.\n",
                        "  df.groupby(['neighbourhood_group'])['room_type'].value_counts()\n"
                    ]
                },
                {
                    "data": {
                        "text/plain": [
                            "neighbourhood_group  room_type      \n",
                            "Bronx                Private room         652\n",
                            "                     Entire home/apt      379\n",
                            "                     Shared room           60\n",
                            "Brooklyn             Private room       10132\n",
                            "                     Entire home/apt     9559\n",
                            "                     Shared room          413\n",
                            "Manhattan            Entire home/apt    13199\n",
                            "                     Private room        7982\n",
                            "                     Shared room          480\n",
                            "Queens               Private room        3372\n",
                            "                     Entire home/apt     2096\n",
                            "                     Shared room          198\n",
                            "Staten Island        Private room         188\n",
                            "                     Entire home/apt      176\n",
                            "                     Shared room            9\n",
                            "Name: count, dtype: int64"
                        ]
                    },
                    "execution_count": 89,
                    "metadata": {},
                    "output_type": "execute_result"
                }
            ],
            "source": [
                "df.groupby(['neighbourhood_group'])['room_type'].value_counts()"
            ]
        },
        {
            "cell_type": "code",
            "execution_count": 90,
            "metadata": {},
            "outputs": [],
            "source": [
                "#The Busiest hosts belong to the Brooklyn Neighbourhood Group. Because it contains the minimum availability per year. Brooklyn is the second most expensive Neighbourhood Group,\n",
                "# and it is not the place with most Airbnb places."
            ]
        },
        {
            "cell_type": "code",
            "execution_count": 91,
            "metadata": {},
            "outputs": [
                {
                    "name": "stderr",
                    "output_type": "stream",
                    "text": [
                        "/tmp/ipykernel_62075/1594702225.py:1: FutureWarning: The default of observed=False is deprecated and will be changed to True in a future version of pandas. Pass observed=False to retain current behavior or observed=True to adopt the future default and silence this warning.\n",
                        "  df.groupby(['room_type'])['availability_365'].mean()\n"
                    ]
                },
                {
                    "data": {
                        "text/plain": [
                            "room_type\n",
                            "Entire home/apt    111.920304\n",
                            "Private room       111.203933\n",
                            "Shared room        162.000862\n",
                            "Name: availability_365, dtype: float64"
                        ]
                    },
                    "execution_count": 91,
                    "metadata": {},
                    "output_type": "execute_result"
                }
            ],
            "source": [
                "df.groupby(['room_type'])['availability_365'].mean()"
            ]
        },
        {
            "cell_type": "code",
            "execution_count": 92,
            "metadata": {},
            "outputs": [
                {
                    "name": "stderr",
                    "output_type": "stream",
                    "text": [
                        "/tmp/ipykernel_62075/720588353.py:1: FutureWarning: The default of observed=False is deprecated and will be changed to True in a future version of pandas. Pass observed=False to retain current behavior or observed=True to adopt the future default and silence this warning.\n",
                        "  df.groupby(['neighbourhood_group','room_type'])['availability_365'].mean()\n"
                    ]
                },
                {
                    "data": {
                        "text/plain": [
                            "neighbourhood_group  room_type      \n",
                            "Bronx                Entire home/apt    158.000000\n",
                            "                     Private room       171.331288\n",
                            "                     Shared room        154.216667\n",
                            "Brooklyn             Entire home/apt     97.205147\n",
                            "                     Private room        99.917983\n",
                            "                     Shared room        178.007264\n",
                            "Manhattan            Entire home/apt    117.140996\n",
                            "                     Private room       101.845026\n",
                            "                     Shared room        138.572917\n",
                            "Queens               Entire home/apt    132.267176\n",
                            "                     Private room       149.222716\n",
                            "                     Shared room        192.186869\n",
                            "Staten Island        Entire home/apt    178.073864\n",
                            "                     Private room       226.361702\n",
                            "                     Shared room         64.777778\n",
                            "Name: availability_365, dtype: float64"
                        ]
                    },
                    "execution_count": 92,
                    "metadata": {},
                    "output_type": "execute_result"
                }
            ],
            "source": [
                "df.groupby(['neighbourhood_group','room_type'])['availability_365'].mean()"
            ]
        },
        {
            "cell_type": "code",
            "execution_count": 93,
            "metadata": {},
            "outputs": [],
            "source": [
                "#In general, the hosts that offer Private Rooms will be the bussiest. But when analysing each neighbourhood group by, the preferences of the users chage depeding on the neighbourhood group."
            ]
        },
        {
            "cell_type": "code",
            "execution_count": 95,
            "metadata": {},
            "outputs": [
                {
                    "name": "stdout",
                    "output_type": "stream",
                    "text": [
                        "<class 'pandas.core.frame.DataFrame'>\n",
                        "RangeIndex: 48895 entries, 0 to 48894\n",
                        "Data columns (total 11 columns):\n",
                        " #   Column                          Non-Null Count  Dtype   \n",
                        "---  ------                          --------------  -----   \n",
                        " 0   host_id                         48895 non-null  int64   \n",
                        " 1   host_name                       48874 non-null  object  \n",
                        " 2   neighbourhood_group             48895 non-null  category\n",
                        " 3   neighbourhood                   48895 non-null  category\n",
                        " 4   room_type                       48895 non-null  category\n",
                        " 5   price                           48895 non-null  int64   \n",
                        " 6   minimum_nights                  48895 non-null  int64   \n",
                        " 7   number_of_reviews               48895 non-null  int64   \n",
                        " 8   reviews_per_month               38843 non-null  float64 \n",
                        " 9   calculated_host_listings_count  48895 non-null  int64   \n",
                        " 10  availability_365                48895 non-null  int64   \n",
                        "dtypes: category(3), float64(1), int64(6), object(1)\n",
                        "memory usage: 3.2+ MB\n"
                    ]
                }
            ],
            "source": [
                "df.info()"
            ]
        },
        {
            "cell_type": "code",
            "execution_count": 103,
            "metadata": {},
            "outputs": [
                {
                    "data": {
                        "text/html": [
                            "<div>\n",
                            "<style scoped>\n",
                            "    .dataframe tbody tr th:only-of-type {\n",
                            "        vertical-align: middle;\n",
                            "    }\n",
                            "\n",
                            "    .dataframe tbody tr th {\n",
                            "        vertical-align: top;\n",
                            "    }\n",
                            "\n",
                            "    .dataframe thead th {\n",
                            "        text-align: right;\n",
                            "    }\n",
                            "</style>\n",
                            "<table border=\"1\" class=\"dataframe\">\n",
                            "  <thead>\n",
                            "    <tr style=\"text-align: right;\">\n",
                            "      <th></th>\n",
                            "      <th>host_id</th>\n",
                            "      <th>price</th>\n",
                            "      <th>minimum_nights</th>\n",
                            "      <th>number_of_reviews</th>\n",
                            "      <th>reviews_per_month</th>\n",
                            "      <th>calculated_host_listings_count</th>\n",
                            "      <th>availability_365</th>\n",
                            "    </tr>\n",
                            "  </thead>\n",
                            "  <tbody>\n",
                            "    <tr>\n",
                            "      <th>host_id</th>\n",
                            "      <td>1.000000</td>\n",
                            "      <td>0.015309</td>\n",
                            "      <td>-0.017364</td>\n",
                            "      <td>-0.140106</td>\n",
                            "      <td>0.296417</td>\n",
                            "      <td>0.154950</td>\n",
                            "      <td>0.203492</td>\n",
                            "    </tr>\n",
                            "    <tr>\n",
                            "      <th>price</th>\n",
                            "      <td>0.015309</td>\n",
                            "      <td>1.000000</td>\n",
                            "      <td>0.042799</td>\n",
                            "      <td>-0.047954</td>\n",
                            "      <td>-0.030608</td>\n",
                            "      <td>0.057472</td>\n",
                            "      <td>0.081829</td>\n",
                            "    </tr>\n",
                            "    <tr>\n",
                            "      <th>minimum_nights</th>\n",
                            "      <td>-0.017364</td>\n",
                            "      <td>0.042799</td>\n",
                            "      <td>1.000000</td>\n",
                            "      <td>-0.080116</td>\n",
                            "      <td>-0.121702</td>\n",
                            "      <td>0.127960</td>\n",
                            "      <td>0.144303</td>\n",
                            "    </tr>\n",
                            "    <tr>\n",
                            "      <th>number_of_reviews</th>\n",
                            "      <td>-0.140106</td>\n",
                            "      <td>-0.047954</td>\n",
                            "      <td>-0.080116</td>\n",
                            "      <td>1.000000</td>\n",
                            "      <td>0.549868</td>\n",
                            "      <td>-0.072376</td>\n",
                            "      <td>0.172028</td>\n",
                            "    </tr>\n",
                            "    <tr>\n",
                            "      <th>reviews_per_month</th>\n",
                            "      <td>0.296417</td>\n",
                            "      <td>-0.030608</td>\n",
                            "      <td>-0.121702</td>\n",
                            "      <td>0.549868</td>\n",
                            "      <td>1.000000</td>\n",
                            "      <td>-0.009421</td>\n",
                            "      <td>0.185791</td>\n",
                            "    </tr>\n",
                            "    <tr>\n",
                            "      <th>calculated_host_listings_count</th>\n",
                            "      <td>0.154950</td>\n",
                            "      <td>0.057472</td>\n",
                            "      <td>0.127960</td>\n",
                            "      <td>-0.072376</td>\n",
                            "      <td>-0.009421</td>\n",
                            "      <td>1.000000</td>\n",
                            "      <td>0.225701</td>\n",
                            "    </tr>\n",
                            "    <tr>\n",
                            "      <th>availability_365</th>\n",
                            "      <td>0.203492</td>\n",
                            "      <td>0.081829</td>\n",
                            "      <td>0.144303</td>\n",
                            "      <td>0.172028</td>\n",
                            "      <td>0.185791</td>\n",
                            "      <td>0.225701</td>\n",
                            "      <td>1.000000</td>\n",
                            "    </tr>\n",
                            "  </tbody>\n",
                            "</table>\n",
                            "</div>"
                        ],
                        "text/plain": [
                            "                                 host_id     price  minimum_nights  \\\n",
                            "host_id                         1.000000  0.015309       -0.017364   \n",
                            "price                           0.015309  1.000000        0.042799   \n",
                            "minimum_nights                 -0.017364  0.042799        1.000000   \n",
                            "number_of_reviews              -0.140106 -0.047954       -0.080116   \n",
                            "reviews_per_month               0.296417 -0.030608       -0.121702   \n",
                            "calculated_host_listings_count  0.154950  0.057472        0.127960   \n",
                            "availability_365                0.203492  0.081829        0.144303   \n",
                            "\n",
                            "                                number_of_reviews  reviews_per_month  \\\n",
                            "host_id                                 -0.140106           0.296417   \n",
                            "price                                   -0.047954          -0.030608   \n",
                            "minimum_nights                          -0.080116          -0.121702   \n",
                            "number_of_reviews                        1.000000           0.549868   \n",
                            "reviews_per_month                        0.549868           1.000000   \n",
                            "calculated_host_listings_count          -0.072376          -0.009421   \n",
                            "availability_365                         0.172028           0.185791   \n",
                            "\n",
                            "                                calculated_host_listings_count  \\\n",
                            "host_id                                               0.154950   \n",
                            "price                                                 0.057472   \n",
                            "minimum_nights                                        0.127960   \n",
                            "number_of_reviews                                    -0.072376   \n",
                            "reviews_per_month                                    -0.009421   \n",
                            "calculated_host_listings_count                        1.000000   \n",
                            "availability_365                                      0.225701   \n",
                            "\n",
                            "                                availability_365  \n",
                            "host_id                                 0.203492  \n",
                            "price                                   0.081829  \n",
                            "minimum_nights                          0.144303  \n",
                            "number_of_reviews                       0.172028  \n",
                            "reviews_per_month                       0.185791  \n",
                            "calculated_host_listings_count          0.225701  \n",
                            "availability_365                        1.000000  "
                        ]
                    },
                    "execution_count": 103,
                    "metadata": {},
                    "output_type": "execute_result"
                }
            ],
            "source": [
                "df.corr(numeric_only=True)"
            ]
        },
        {
            "cell_type": "code",
            "execution_count": null,
            "metadata": {},
            "outputs": [],
            "source": [
                "#The previous code shows that the price have a weak coorelation with: minimum_nights,number_of_reviews,reviews_per_month,calculated_host_listings_count and\tavailability_365"
            ]
        }
    ],
    "metadata": {
        "kernelspec": {
            "display_name": "Python 3.8.13 64-bit ('3.8.13')",
            "language": "python",
            "name": "python3"
        },
        "language_info": {
            "codemirror_mode": {
                "name": "ipython",
                "version": 3
            },
            "file_extension": ".py",
            "mimetype": "text/x-python",
            "name": "python",
            "nbconvert_exporter": "python",
            "pygments_lexer": "ipython3",
            "version": "3.11.4"
        },
        "orig_nbformat": 4,
        "vscode": {
            "interpreter": {
                "hash": "110cc1dee26208153f2972f08a2ad52b6a56238dc66d48e87fb757ef2996db56"
            }
        }
    },
    "nbformat": 4,
    "nbformat_minor": 2
}
